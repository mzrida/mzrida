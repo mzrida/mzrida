{
 "cells": [
  {
   "cell_type": "markdown",
   "metadata": {},
   "source": [
    "# Exploring Dimension Reduction\n",
    "We Try to apply supervised machine learning techniques on the publicaly avaliable Wine dataset.\n",
    "We use dimension reduction techniques (PCA, LDA and Kernel) to prevent overfitting and investigate its effectiveness on the test dataset.\n",
    "\n"
   ]
  },
  {
   "cell_type": "markdown",
   "metadata": {},
   "source": [
    "## Explained variance for each feature\n",
    "\n",
    "we first determine the variance expalained by each wine feature. We conclude that 2 to 3 features might be enough for prediction"
   ]
  },
  {
   "cell_type": "code",
   "execution_count": 4,
   "metadata": {},
   "outputs": [
    {
     "data": {
      "image/png": "[encoded data removed]",
      "text/plain": [
       "<Figure size 432x288 with 1 Axes>"
      ]
     },
     "metadata": {
      "needs_background": "light"
     },
     "output_type": "display_data"
    }
   ],
   "source": [
    "import pandas as pd\n",
    "from sklearn.linear_model import LogisticRegression\n",
    "from sklearn.preprocessing import StandardScaler\n",
    "from sklearn.model_selection import train_test_split\n",
    "import matplotlib.pyplot as plt \n",
    "import numpy as np \n",
    "from sklearn.decomposition import PCA\n",
    "from sklearn.decomposition import KernelPCA\n",
    "from mlxtend.plotting import plot_decision_regions\n",
    "from sklearn.discriminant_analysis import LinearDiscriminantAnalysis as LDA\n",
    "from sklearn.datasets import make_moons\n",
    "\n",
    "\n",
    "\n",
    "df_wine=pd.read_csv('https://archive.ics.uci.edu/''ml/machine-learning-databases/''wine/wine.data', header=None)\n",
    "X,Y=df_wine.iloc[:,1:], df_wine.iloc[:,0]\n",
    "X_train,X_test,Y_train,Y_test=train_test_split(X,Y,test_size=0.3,stratify=Y,random_state=0)\n",
    "sc=StandardScaler()\n",
    "X_train_std,X_test_std=sc.fit_transform(X_train), sc.transform(X_test)\n",
    "#working on the training set\n",
    "\n",
    "cov_X_train= np.cov(X_train_std.T)\n",
    "eig, eigv=np.linalg.eig(cov_X_train)\n",
    "sorted_importance=sorted(eig/(eig.sum()),reverse=True)\n",
    "cumu_sorted_importance=np.cumsum(sorted(eig/(eig.sum()),reverse=True))\n",
    "plt.bar(range(1,14),sorted_importance,label='explained var')\n",
    "plt.xlabel('Principle comp index')\n",
    "plt.ylabel('Variance explained')\n",
    "plt.step(range(1,14),cumu_sorted_importance,where='mid',label='cumulative variance')\n",
    "plt.legend(loc='best')\n",
    "plt.show()\n",
    "\n"
   ]
  },
  {
   "cell_type": "markdown",
   "metadata": {},
   "source": [
    "## LogisticRegression after PCA (non supervised)\n",
    "we fit a logistic Regression after applying PCA and evaluate the train/test accuracy"
   ]
  },
  {
   "cell_type": "code",
   "execution_count": 15,
   "metadata": {},
   "outputs": [
    {
     "name": "stdout",
     "output_type": "stream",
     "text": [
      "score for training set:  0.9838709677419355\n",
      "score for testing set:  0.9259259259259259\n"
     ]
    }
   ],
   "source": [
    "#transform the axis, by collecting eigenvectors then \n",
    "eigen_pairs=[(np.abs(eig[i]),eigv[:,i]) for i in range(len(eig))]\n",
    "eigen_pairs.sort(key=lambda k: k[0],reverse=True)\n",
    "w = np.hstack((eigen_pairs[0][1][:, np.newaxis],eigen_pairs[1][1][:, np.newaxis]))\n",
    "X_new_PCA=X_train_std.dot(w)\n",
    "colors=['r','b','g']\n",
    "markers=['s','x','o']\n",
    "\n",
    "\n",
    "lr=LogisticRegression(solver='lbfgs',multi_class='auto')\n",
    "pc= PCA(n_components=2,svd_solver='auto')\n",
    "pc.fit(X_train_std)\n",
    "X_train_PCA=pc.transform(X_train_std)\n",
    "X_test_PCA=pc.transform(X_test_std)\n",
    "lr.fit(X_train_PCA,Y_train)\n",
    "y_predict=lr.predict(X_test_PCA)\n",
    "print(\"score for training set: \",lr.score(X_train_PCA,Y_train))\n",
    "print(\"score for testing set: \",lr.score(X_test_PCA,Y_test))\n",
    "\n",
    "\n",
    "\n",
    "\n"
   ]
  },
  {
   "cell_type": "markdown",
   "metadata": {},
   "source": [
    "## LogisticRegression after LDA (supervised)\n",
    "we fit a logistic Regression after applying LDA and evaluate the train/test accuracy"
   ]
  },
  {
   "cell_type": "code",
   "execution_count": 18,
   "metadata": {},
   "outputs": [
    {
     "name": "stdout",
     "output_type": "stream",
     "text": [
      "score for training:  1.0\n",
      "score for testing:  1.0\n"
     ]
    }
   ],
   "source": [
    "#LDA\n",
    "\n",
    "lr2=LogisticRegression(random_state=1,solver='lbfgs',multi_class='auto')\n",
    "ld=LDA(n_components=2,solver='svd')\n",
    "X_train_lda=ld.fit_transform(X_train_std,Y_train)\n",
    "X_test_lda=ld.transform(X_test_std)\n",
    "lr2.fit(X_train_lda,Y_train)\n",
    "print(\"score for training: \",lr2.score(X_train_lda,Y_train))\n",
    "print(\"score for testing: \",lr2.score(X_test_lda,Y_test))"
   ]
  },
  {
   "cell_type": "markdown",
   "metadata": {},
   "source": [
    "## reducing dimensions using non-linear kernel and apply it to make_moons"
   ]
  },
  {
   "cell_type": "code",
   "execution_count": 17,
   "metadata": {},
   "outputs": [
    {
     "data": {
      "image/png": "[encoded data removed]",
      "text/plain": [
       "<Figure size 432x288 with 1 Axes>"
      ]
     },
     "metadata": {
      "needs_background": "light"
     },
     "output_type": "display_data"
    }
   ],
   "source": [
    "Xm,ym=make_moons(random_state=123)\n",
    "kerpca=KernelPCA(n_components=2,kernel='rbf',gamma=15)\n",
    "Xm_ker=kerpca.fit_transform(Xm,ym)\n",
    "plt.scatter(Xm_ker[np.where(ym==0),0],Xm_ker[np.where(ym==0),1],marker='x',color='red')\n",
    "plt.scatter(Xm_ker[np.where(ym==1),0],Xm_ker[np.where(ym==1),1],marker='o',color='blue')\n",
    "plt.show()"
   ]
  }
 ],
 "metadata": {
  "kernelspec": {
   "display_name": "Python 3",
   "language": "python",
   "name": "python3"
  },
  "language_info": {
   "codemirror_mode": {
    "name": "ipython",
    "version": 3
   },
   "file_extension": ".py",
   "mimetype": "text/x-python",
   "name": "python",
   "nbconvert_exporter": "python",
   "pygments_lexer": "ipython3",
   "version": "3.7.4"
  }
 },
 "nbformat": 4,
 "nbformat_minor": 2
}
