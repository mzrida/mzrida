{
 "cells": [
  {
   "cell_type": "markdown",
   "metadata": {},
   "source": [
    "# CNN on the mnist dataset\n",
    "We apply a CNN on the mnist publicaly available dataset\n",
    "We first preprocess the data and split it to train/test datasets\n",
    "We then construct an image generator and fit a CNN on our data using Keras"
   ]
  },
  {
   "cell_type": "markdown",
   "metadata": {},
   "source": [
    "# Data Preprocessing"
   ]
  },
  {
   "cell_type": "code",
   "execution_count": 2,
   "metadata": {},
   "outputs": [
    {
     "name": "stdout",
     "output_type": "stream",
     "text": [
      "image shape: (160, 208, 3)\n",
      "number of channel: 3\n",
      "image data typme uint8\n",
      "some random pixels: [[81 99 47]\n",
      " [41 65 17]]\n",
      "Training:  (50000, 784) (50000,)\n",
      "Validation:  (10000, 784) (10000,)\n",
      "Test Set:  (10000, 784) (10000,)\n"
     ]
    }
   ],
   "source": [
    "import tensorflow.compat.v1 as tf\n",
    "tf.disable_v2_behavior()\n",
    "import imageio\n",
    "import os\n",
    "import numpy as np\n",
    "import struct\n",
    "from sklearn.preprocessing import StandardScaler\n",
    "#enable eagerexecution\n",
    "try:\n",
    "    tf.enable_eager_execution ()\n",
    "except Exception:\n",
    "    pass\n",
    "\n",
    "#example of reading an image\n",
    "img=imageio.imread('C://Users//marwe//Downloads//Sample-Images-in-the-RGB-color-space.jpg',pilmode='RGB')\n",
    "print(\"image shape:\",img.shape)\n",
    "print(\"number of channel:\",img.shape[2])\n",
    "print(\"image data typme\",img.dtype)\n",
    "print(\"some random pixels:\",img[100:102,100,::])\n",
    "\n",
    "#load mnist\n",
    "def load_mnist(path, kind='train'):\n",
    "    labels_path = os.path.join(path,'%s-labels.idx1-ubyte' % kind)\n",
    "    images_path = os.path.join(path,'%s-images.idx3-ubyte' % kind)\n",
    "    with open(labels_path, 'rb') as lbpath:\n",
    "        magic, n = struct.unpack('>II',lbpath.read(8))\n",
    "        labels = np.fromfile(lbpath,dtype=np.uint8)\n",
    "    with open(images_path, 'rb') as imgpath:\n",
    "        magic, num, rows, cols = struct.unpack(\">IIII\",imgpath.read(16))\n",
    "        images = np.fromfile(imgpath,dtype=np.uint8).reshape(len(labels), 784)\n",
    "        images = ((images / 255.) - .5) * 2\n",
    "    return images, labels\n",
    "\n",
    "X_data, y_data = load_mnist(\"C:\\\\Users\\\\marwe\\\\Desktop\\\\neural\", kind='train')\n",
    "X_test, y_test = load_mnist(\"C:\\\\Users\\\\marwe\\\\Desktop\\\\neural\", kind='t10k')\n",
    "\n",
    "#X_trai, validation and test\n",
    "X_train, y_train = X_data[:50000,:], y_data[:50000]\n",
    "X_valid, y_valid = X_data[50000:,:], y_data[50000:]\n",
    "print('Training: ', X_train.shape, y_train.shape)\n",
    "print('Validation: ', X_valid.shape, y_valid.shape)\n",
    "print('Test Set: ', X_test.shape, y_test.shape)\n",
    "\n"
   ]
  },
  {
   "cell_type": "markdown",
   "metadata": {},
   "source": [
    "# We define an image generator and fit a CNN on the mnist dataset\n",
    "\n",
    "After preprocessing the data and constructing an image generator, we fit a CNN to determine which class every image belongs to (0,1...,9)\n",
    "\n",
    "The CNN is constructed using Keras by stacking a Conv2D, MaxPooling2D, Flatten and end with Dense layers to classify our images\n",
    "We also use Dropout Layers to eliminate overiffitting issues\n",
    "\n",
    "Notice we reach a very high test accuracy levels (almost 99%)\n",
    " "
   ]
  },
  {
   "cell_type": "code",
   "execution_count": 3,
   "metadata": {},
   "outputs": [
    {
     "name": "stdout",
     "output_type": "stream",
     "text": [
      "WARNING:tensorflow:From C:\\Users\\marwe\\Anaconda3\\lib\\site-packages\\tensorflow_core\\python\\ops\\resource_variable_ops.py:1635: calling BaseResourceVariable.__init__ (from tensorflow.python.ops.resource_variable_ops) with constraint is deprecated and will be removed in a future version.\n",
      "Instructions for updating:\n",
      "If using Keras pass *_constraint arguments to layers.\n",
      "Train on 50000 samples, validate on 10000 samples\n",
      "Epoch 1/5\n",
      "50000/50000 [==============================] - 66s 1ms/step - loss: 0.1369 - accuracy: 0.9577 - val_loss: 0.0524 - val_accuracy: 0.9860\n",
      "Epoch 2/5\n",
      "50000/50000 [==============================] - 69s 1ms/step - loss: 0.0486 - accuracy: 0.9848 - val_loss: 0.0458 - val_accuracy: 0.9883\n",
      "Epoch 3/5\n",
      "50000/50000 [==============================] - 69s 1ms/step - loss: 0.0322 - accuracy: 0.9898 - val_loss: 0.0402 - val_accuracy: 0.9893\n",
      "Epoch 4/5\n",
      "50000/50000 [==============================] - 68s 1ms/step - loss: 0.0248 - accuracy: 0.9920 - val_loss: 0.0378 - val_accuracy: 0.9902\n",
      "Epoch 5/5\n",
      "50000/50000 [==============================] - 68s 1ms/step - loss: 0.0192 - accuracy: 0.9936 - val_loss: 0.0419 - val_accuracy: 0.9894\n",
      "Test loss: 0.03978591469187522\n",
      "Test accuracy: 0.9883000254631042\n"
     ]
    }
   ],
   "source": [
    "#Generate random batches\n",
    "def Gen_batches(X,y,batch_size=64,shuffle=False,random_seed=None):\n",
    "    idx=np.arange(y.shape[0])\n",
    "    if shuffle:\n",
    "        rng = np.random.RandomState(random_seed)\n",
    "        rng.shuffle(idx)\n",
    "        X=X[idx]\n",
    "        y=y[idx]\n",
    "    for i in range(0,y.shape[0],batch_size):\n",
    "        yield (X[i:i+batch_size,:],y[i:i+batch_size])\n",
    "\n",
    "\n",
    "#normalizing the data\n",
    "sc=StandardScaler()\n",
    "X_train_std=sc.fit_transform(X_train).reshape(X_train.shape[0],28,28,1)\n",
    "X_valid_std=sc.transform(X_valid).reshape(X_valid.shape[0],28,28,1)\n",
    "X_test_std=sc.transform(X_test).reshape(X_test.shape[0],28,28,1)\n",
    "\n",
    "\n",
    "#implement our CNN using keras\n",
    "import tensorflow.keras as keras\n",
    "from keras.models import Sequential, load_model\n",
    "from keras.layers import Dense\n",
    "from keras.layers import Conv2D\n",
    "from keras.layers import Dropout\n",
    "from keras.layers import Flatten\n",
    "from keras.layers import MaxPooling2D\n",
    "from keras.wrappers.scikit_learn import KerasClassifier\n",
    "from keras.optimizers import SGD\n",
    "from keras.callbacks import ModelCheckpoint\n",
    "from numpy.testing import assert_allclose\n",
    "\n",
    "#onehot encoder\n",
    "y_train = keras.utils.to_categorical(y_train, 10)\n",
    "y_valid = keras.utils.to_categorical(y_valid, 10)\n",
    "y_test = keras.utils.to_categorical(y_test,10)\n",
    "\n",
    "#create cnn model\n",
    "model = Sequential()\n",
    "model.add(Conv2D(32,kernel_size=(5,5),strides=(1,1),activation='relu',input_shape=(28,28,1)))\n",
    "model.add(Dropout(rate=0.2))\n",
    "model.add(MaxPooling2D(pool_size=(2,2),strides=(2,2)))\n",
    "model.add(Conv2D(64,kernel_size=(5,5),strides=(1,1),activation='relu'))\n",
    "model.add(Dropout(rate=0.2))\n",
    "model.add(MaxPooling2D(pool_size=(2, 2)))\n",
    "model.add(Flatten())\n",
    "model.add(Dense(1024, activation='relu'))\n",
    "model.add(Dense(10, activation='softmax'))\n",
    "#compile model and minimize using sgd\n",
    "model.compile(loss=keras.losses.categorical_crossentropy,\n",
    "              optimizer='adam',\n",
    "              metrics=['accuracy'])\n",
    "\n",
    "\n",
    "\n",
    "model.fit(X_train_std, y_train,\n",
    "          batch_size=128,\n",
    "          epochs=5,\n",
    "          verbose=1,\n",
    "          validation_data=(X_valid_std, y_valid))\n",
    "\n",
    "\n",
    "\n",
    "\n",
    "\n",
    "score = model.evaluate(X_test_std, y_test, verbose=0)\n",
    "print('Test loss:', score[0])\n",
    "print('Test accuracy:', score[1])\n",
    "\n",
    "\n"
   ]
  },
  {
   "cell_type": "markdown",
   "metadata": {},
   "source": [
    "## Plotting Missclassified images:\n",
    "\n",
    "We plot some of the missclassified images to identify possible reasons for such errors. We notice that the handwriting can sometimes be unclear and hard to read even for a human being. We therefore conclude that our CNN does a pretty good job classifying our images! "
   ]
  },
  {
   "cell_type": "code",
   "execution_count": 8,
   "metadata": {},
   "outputs": [
    {
     "name": "stdout",
     "output_type": "stream",
     "text": [
      "plotting few of our wrong guesses:\n"
     ]
    },
    {
     "data": {
      "image/png": "[encoded data removed]",
      "text/plain": [
       "<Figure size 432x288 with 40 Axes>"
      ]
     },
     "metadata": {},
     "output_type": "display_data"
    }
   ],
   "source": [
    "import matplotlib.pyplot as plt\n",
    "\n",
    "y_pred=model.predict(X_test_std)\n",
    "#print(y_pred.shape)\n",
    "#print(y_pred[0,:])\n",
    "y_classes = y_pred.argmax(axis=-1)\n",
    "#print(y_classes[0])\n",
    "print('plotting few of our wrong guesses:')\n",
    "\n",
    "X_testo, y_testo = load_mnist(\"C:\\\\Users\\\\marwe\\\\Desktop\\\\neural\", kind='t10k')\n",
    "X_testo=X_testo.reshape(X_testo.shape[0],28,28)\n",
    "\n",
    "fig, ax = plt.subplots(nrows=8,ncols=5,sharex=True,sharey=True)\n",
    "\n",
    "ax= ax.flatten()\n",
    "\n",
    "for i in range(40):\n",
    "    img = X_testo[y_classes != y_testo][i]\n",
    "    ax[i].imshow(img, cmap='Greys')\n",
    "\n",
    "\n",
    "ax[0].set_xticks([])\n",
    "ax[0].set_yticks([])\n",
    "plt.tight_layout()\n",
    "plt.show()"
   ]
  }
 ],
 "metadata": {
  "kernelspec": {
   "display_name": "Python 3",
   "language": "python",
   "name": "python3"
  },
  "language_info": {
   "codemirror_mode": {
    "name": "ipython",
    "version": 3
   },
   "file_extension": ".py",
   "mimetype": "text/x-python",
   "name": "python",
   "nbconvert_exporter": "python",
   "pygments_lexer": "ipython3",
   "version": "3.7.4"
  }
 },
 "nbformat": 4,
 "nbformat_minor": 2
}
