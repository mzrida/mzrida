{
 "cells": [
  {
   "cell_type": "markdown",
   "metadata": {},
   "source": [
    "# Sentiment analysis imdb/Reuters datasets"
   ]
  },
  {
   "cell_type": "markdown",
   "metadata": {},
   "source": [
    "## imdb classification model\n",
    "\n",
    "Movie reviews are classified into positive/negative.\n",
    "We build a neural network as follows:\n",
    "we start by by an embedding layer and connect it to 2 Dense layers ending with sigmoid layer (Sigmoid is useful for binary classification)"
   ]
  },
  {
   "cell_type": "code",
   "execution_count": 6,
   "metadata": {},
   "outputs": [
    {
     "name": "stderr",
     "output_type": "stream",
     "text": [
      "C:\\Users\\marwe\\Anaconda3\\lib\\site-packages\\tensorflow_core\\python\\framework\\indexed_slices.py:433: UserWarning: Converting sparse IndexedSlices to a dense Tensor of unknown shape. This may consume a large amount of memory.\n",
      "  \"Converting sparse IndexedSlices to a dense Tensor of unknown shape. \"\n"
     ]
    },
    {
     "name": "stdout",
     "output_type": "stream",
     "text": [
      "Train on 22500 samples, validate on 2500 samples\n",
      "Epoch 1/10\n",
      "22500/22500 [==============================] - 4s 198us/step - loss: 0.6895 - accuracy: 0.5298 - val_loss: 0.6756 - val_accuracy: 0.6608\n",
      "Epoch 2/10\n",
      "22500/22500 [==============================] - 3s 148us/step - loss: 0.5664 - accuracy: 0.7548 - val_loss: 0.4206 - val_accuracy: 0.8272\n",
      "Epoch 3/10\n",
      "22500/22500 [==============================] - 3s 148us/step - loss: 0.3009 - accuracy: 0.8832 - val_loss: 0.3095 - val_accuracy: 0.8732\n",
      "Epoch 4/10\n",
      "22500/22500 [==============================] - 3s 149us/step - loss: 0.2086 - accuracy: 0.9208 - val_loss: 0.2985 - val_accuracy: 0.8840\n",
      "Epoch 5/10\n",
      "22500/22500 [==============================] - 3s 155us/step - loss: 0.1635 - accuracy: 0.9404 - val_loss: 0.3109 - val_accuracy: 0.8784\n",
      "Epoch 6/10\n",
      "22500/22500 [==============================] - 3s 150us/step - loss: 0.1339 - accuracy: 0.9538 - val_loss: 0.3204 - val_accuracy: 0.8796\n",
      "Epoch 7/10\n",
      "22500/22500 [==============================] - 3s 151us/step - loss: 0.1098 - accuracy: 0.9650 - val_loss: 0.3317 - val_accuracy: 0.8832\n",
      "Epoch 8/10\n",
      "22500/22500 [==============================] - 3s 150us/step - loss: 0.0913 - accuracy: 0.9728 - val_loss: 0.3552 - val_accuracy: 0.8800\n",
      "Epoch 9/10\n",
      "22500/22500 [==============================] - 4s 156us/step - loss: 0.0758 - accuracy: 0.9784 - val_loss: 0.3893 - val_accuracy: 0.8744\n",
      "Epoch 10/10\n",
      "22500/22500 [==============================] - 3s 148us/step - loss: 0.0605 - accuracy: 0.9854 - val_loss: 0.4114 - val_accuracy: 0.8776\n",
      "25000/25000 [==============================] - 1s 45us/step\n",
      "Test score imdb classification: 0.44\n",
      "Test accuracy imdb classification: 0.86\n"
     ]
    }
   ],
   "source": [
    "import pyprind\n",
    "import pandas as pd\n",
    "from string import punctuation\n",
    "import re\n",
    "import numpy as np\n",
    "from sklearn.preprocessing import StandardScaler\n",
    "from keras.preprocessing.text import text_to_word_sequence, hashing_trick\n",
    "from keras.preprocessing.text import Tokenizer\n",
    "from keras.preprocessing.sequence import pad_sequences\n",
    "from keras.layers import Embedding\n",
    "import tensorflow.keras as keras\n",
    "from keras.models import Sequential, load_model\n",
    "from keras.layers import Dense\n",
    "from keras.layers import Dense, LSTM, SpatialDropout1D\n",
    "from keras.datasets import imdb\n",
    "from keras.utils import to_categorical\n",
    "from keras.layers import Flatten\n",
    "\n",
    "#preparing data\n",
    "(X_train,y_train),(X_test,y_test)=imdb.load_data(num_words=10000)\n",
    "#print(y_train)\n",
    "X_train=pad_sequences(X_train,maxlen=250)\n",
    "X_test=pad_sequences(X_test,maxlen=250)\n",
    "#y_train=to_categorical(y_train,num_classes=2)\n",
    "#y_test=to_categorical(y_test,num_classes=2)\n",
    "#print(X_train.shape)\n",
    "sc=StandardScaler()\n",
    "#X_train=sc.fit_transform(X_train)\n",
    "#X_test=sc.transform(X_test)\n",
    "#y_train = np.asarray(y_train).astype('float32')\n",
    "#y_test = np.asarray(y_test).astype('float32')\n",
    "#neural network\n",
    "model = Sequential()\n",
    "model.add(Embedding(10001, 50, input_length=250))\n",
    "model.add(Dense(units=16,activation='relu'))\n",
    "model.add(Dense(units=16,input_dim=16,activation='relu'))\n",
    "#model.add(Dense(units=16,input_dim=16,activation='tanh'))\n",
    "model.add(Flatten())\n",
    "model.add(Dense(1, activation='sigmoid'))\n",
    "model.compile(optimizer='adam',\n",
    "loss='binary_crossentropy',\n",
    "metrics=['accuracy'])\n",
    "history_imdb=model.fit(X_train, y_train, epochs=10, batch_size=512,validation_split=0.1)\n",
    "score, acc = model.evaluate(X_test, y_test,\n",
    "                            batch_size=516)\n",
    "print('Test score imdb classification: %.2f' % score)\n",
    "print('Test accuracy imdb classification: %.2f' % acc)\n",
    "\n"
   ]
  },
  {
   "cell_type": "markdown",
   "metadata": {},
   "source": [
    "## Reuters classification model\n",
    "\n",
    "Reuters news headlines are classified into 46 news categories .\n",
    "We build a neural network as follows:\n",
    "we start by by an embedding layer and connect it to 2 Dense layers ending with a dense softmax layer (softmax is useful for categorical classification)"
   ]
  },
  {
   "cell_type": "code",
   "execution_count": 7,
   "metadata": {},
   "outputs": [
    {
     "name": "stderr",
     "output_type": "stream",
     "text": [
      "C:\\Users\\marwe\\Anaconda3\\lib\\site-packages\\tensorflow_core\\python\\framework\\indexed_slices.py:433: UserWarning: Converting sparse IndexedSlices to a dense Tensor of unknown shape. This may consume a large amount of memory.\n",
      "  \"Converting sparse IndexedSlices to a dense Tensor of unknown shape. \"\n"
     ]
    },
    {
     "name": "stdout",
     "output_type": "stream",
     "text": [
      "Train on 8083 samples, validate on 899 samples\n",
      "Epoch 1/15\n",
      "8083/8083 [==============================] - 5s 627us/step - loss: 2.4693 - accuracy: 0.3313 - val_loss: 2.2469 - val_accuracy: 0.3893\n",
      "Epoch 2/15\n",
      "8083/8083 [==============================] - 4s 534us/step - loss: 2.0529 - accuracy: 0.4417 - val_loss: 2.0140 - val_accuracy: 0.4549\n",
      "Epoch 3/15\n",
      "8083/8083 [==============================] - 4s 529us/step - loss: 1.7824 - accuracy: 0.5249 - val_loss: 1.7788 - val_accuracy: 0.5551\n",
      "Epoch 4/15\n",
      "8083/8083 [==============================] - 4s 531us/step - loss: 1.5149 - accuracy: 0.6015 - val_loss: 1.6497 - val_accuracy: 0.6207\n",
      "Epoch 5/15\n",
      "8083/8083 [==============================] - 4s 540us/step - loss: 1.2742 - accuracy: 0.6629 - val_loss: 1.5605 - val_accuracy: 0.6218\n",
      "Epoch 6/15\n",
      "8083/8083 [==============================] - 4s 532us/step - loss: 1.0166 - accuracy: 0.7355 - val_loss: 1.5367 - val_accuracy: 0.6307\n",
      "Epoch 7/15\n",
      "8083/8083 [==============================] - 4s 525us/step - loss: 0.7911 - accuracy: 0.8069 - val_loss: 1.5606 - val_accuracy: 0.6374\n",
      "Epoch 8/15\n",
      "8083/8083 [==============================] - 4s 533us/step - loss: 0.6256 - accuracy: 0.8455 - val_loss: 1.6493 - val_accuracy: 0.6251\n",
      "Epoch 9/15\n",
      "8083/8083 [==============================] - 4s 531us/step - loss: 0.4780 - accuracy: 0.8925 - val_loss: 1.7413 - val_accuracy: 0.6518\n",
      "Epoch 10/15\n",
      "8083/8083 [==============================] - 4s 530us/step - loss: 0.4146 - accuracy: 0.9039 - val_loss: 1.7328 - val_accuracy: 0.6596\n",
      "Epoch 11/15\n",
      "8083/8083 [==============================] - 4s 527us/step - loss: 0.3467 - accuracy: 0.9172 - val_loss: 1.7530 - val_accuracy: 0.6796\n",
      "Epoch 12/15\n",
      "8083/8083 [==============================] - 4s 533us/step - loss: 0.2684 - accuracy: 0.9369 - val_loss: 1.9497 - val_accuracy: 0.6496\n",
      "Epoch 13/15\n",
      "8083/8083 [==============================] - 4s 540us/step - loss: 0.2471 - accuracy: 0.9393 - val_loss: 2.0001 - val_accuracy: 0.6574\n",
      "Epoch 14/15\n",
      "8083/8083 [==============================] - 4s 528us/step - loss: 0.2128 - accuracy: 0.9463 - val_loss: 2.0631 - val_accuracy: 0.6696\n",
      "Epoch 15/15\n",
      "8083/8083 [==============================] - 4s 533us/step - loss: 0.1866 - accuracy: 0.9515 - val_loss: 2.2178 - val_accuracy: 0.6374\n",
      "2246/2246 [==============================] - 0s 154us/step\n",
      "Test score Reuters classification: 2.04\n",
      "Test accuracy Reuters classification: 0.65\n"
     ]
    }
   ],
   "source": [
    "#Reuters\n",
    "from keras.datasets import reuters\n",
    "(X_train, y_train), (X_test, y_test) = reuters.load_data(\n",
    "num_words=10000)\n",
    "#print(np.unique(y_train))\n",
    "#print(len(X_train[0]))\n",
    "\n",
    "X_train=pad_sequences(X_train,maxlen=300)\n",
    "X_test=pad_sequences(X_test,maxlen=300)\n",
    "y_train=to_categorical(y_train,num_classes=46)\n",
    "y_test=to_categorical(y_test,num_classes=46)\n",
    "\n",
    "model = Sequential()\n",
    "model.add(Embedding(10001, 50, input_length=300))\n",
    "model.add(Dense(units=64,activation='relu'))\n",
    "model.add(Dense(units=64,input_dim=64,activation='relu'))\n",
    "#model.add(Dense(units=80,input_dim=150,activation='tanh'))\n",
    "model.add(Flatten())\n",
    "model.add(Dense(46, activation='softmax'))\n",
    "model.compile(optimizer='rmsprop',\n",
    "loss='categorical_crossentropy',\n",
    "metrics=['accuracy'])\n",
    "history_reuters=model.fit(X_train, y_train, epochs=15, batch_size=512,validation_split=0.1)\n",
    "score, acc = model.evaluate(X_test, y_test,\n",
    "                            batch_size=516)\n",
    "print('Test score Reuters classification: %.2f' % (score))\n",
    "print('Test accuracy Reuters classification: %.2f' %(acc))"
   ]
  },
  {
   "cell_type": "markdown",
   "metadata": {},
   "source": [
    "## Plotting accuracy graphs for imdb/Reuters\n",
    "\n",
    "We plot graphs summarizing the findings of the 2 previous models.\n",
    "We can see that that our Reuters model suffers from overfitting which suggests we might not have the optimal neural network architecture (LSTM might help solve this problem)"
   ]
  },
  {
   "cell_type": "code",
   "execution_count": 16,
   "metadata": {},
   "outputs": [
    {
     "data": {
      "image/png": "[encoded data removed]",
      "text/plain": [
       "<Figure size 432x288 with 1 Axes>"
      ]
     },
     "metadata": {
      "needs_background": "light"
     },
     "output_type": "display_data"
    },
    {
     "data": {
      "image/png": "[encoded data removed]",
      "text/plain": [
       "<Figure size 432x288 with 1 Axes>"
      ]
     },
     "metadata": {
      "needs_background": "light"
     },
     "output_type": "display_data"
    }
   ],
   "source": [
    "import matplotlib.pyplot as plt\n",
    "\n",
    "history_dict = history_imdb.history\n",
    "loss_values = history_dict['accuracy']\n",
    "val_loss_values = history_dict['val_accuracy']\n",
    "epochs = range(1, len(loss_values) + 1)\n",
    "plt.plot(epochs, loss_values, 'b', label='accuracy imdb')\n",
    "plt.plot(epochs, val_loss_values, 'o', label='Validation acc imdb')\n",
    "plt.title('train/val accuracy imdb')\n",
    "plt.xlabel('Epochs')\n",
    "plt.ylabel('Loss')\n",
    "plt.legend()\n",
    "plt.show()\n",
    "\n",
    "\n",
    "history_dict = history_reuters.history\n",
    "loss_values = history_dict['accuracy']\n",
    "val_loss_values = history_dict['val_accuracy']\n",
    "epochs = range(1, len(loss_values) + 1)\n",
    "plt.plot(epochs, loss_values, 'b', label='acc reuters')\n",
    "plt.plot(epochs, val_loss_values, 'o', label='Val acc reuters')\n",
    "plt.title('train/val accuracy reuters')\n",
    "plt.xlabel('Epochs')\n",
    "plt.ylabel('Loss')\n",
    "plt.legend()\n",
    "plt.show()\n"
   ]
  }
 ],
 "metadata": {
  "kernelspec": {
   "display_name": "Python 3",
   "language": "python",
   "name": "python3"
  },
  "language_info": {
   "codemirror_mode": {
    "name": "ipython",
    "version": 3
   },
   "file_extension": ".py",
   "mimetype": "text/x-python",
   "name": "python",
   "nbconvert_exporter": "python",
   "pygments_lexer": "ipython3",
   "version": "3.7.4"
  }
 },
 "nbformat": 4,
 "nbformat_minor": 2
}
