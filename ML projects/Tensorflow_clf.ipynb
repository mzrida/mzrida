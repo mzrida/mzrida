{
 "cells": [
  {
   "cell_type": "markdown",
   "metadata": {},
   "source": [
    "# Experimenting with tensorflow: Simple sessions and training a classifier\n",
    "\n",
    "In this short notebook, we explore few features of tensorflow (powerful python library for machine learning). We first look at few introductory examples and finish by building a linear regression classifier"
   ]
  },
  {
   "cell_type": "markdown",
   "metadata": {},
   "source": [
    "## Evaluating shapes and ranks using Tensorflow:\n",
    "\n",
    "We build a graph and run a session that identifies the rank and shape of tf.constants"
   ]
  },
  {
   "cell_type": "code",
   "execution_count": 7,
   "metadata": {},
   "outputs": [
    {
     "name": "stdout",
     "output_type": "stream",
     "text": [
      "shapes of x1,x2,x3 are:  () (4,) (2, 2)\n",
      "rank of r1, r2 and r3 are:  0 1 2\n"
     ]
    }
   ],
   "source": [
    "import numpy as np\n",
    "import tensorflow.compat.v1 as tf\n",
    "tf.disable_v2_behavior() \n",
    "\n",
    "g=tf.Graph()\n",
    "with g.as_default():\n",
    "    #define 3 tensors:\n",
    "    x1=tf.constant(np.pi)\n",
    "    x2=tf.constant([1,2,3,4])\n",
    "    x3=tf.constant([[1,2],[3,4]])\n",
    "    #rank:\n",
    "    r1=tf.rank(x1)\n",
    "    r2=tf.rank(x2)\n",
    "    r3=tf.rank(x3)\n",
    "    #get shape\n",
    "    s1=x1.get_shape()\n",
    "    s2=x2.get_shape()\n",
    "    s3=x3.get_shape()\n",
    "    print(\"shapes of x1,x2,x3 are: \",s1,s2,s3)\n",
    "\n",
    "with tf.Session(graph=g):\n",
    "    print('rank of r1, r2 and r3 are: ',r1.eval(),r2.eval(),r3.eval())\n",
    "\n"
   ]
  },
  {
   "cell_type": "markdown",
   "metadata": {},
   "source": [
    "## Evaluating a simple function using Tensorflow:\n",
    "\n",
    "We build a graph and run a session that evaluates a simple equation 2*(a-b)+c"
   ]
  },
  {
   "cell_type": "code",
   "execution_count": 8,
   "metadata": {},
   "outputs": [
    {
     "name": "stdout",
     "output_type": "stream",
     "text": [
      "z=2*(a-b)+c= 2 * ( 1 - 2 )+ 3 = 1\n",
      "Evaluating our function\n",
      "z= 1\n",
      "mean x1: [0.62 0.47]\n",
      "mean x2: [0.46 0.49]\n"
     ]
    }
   ],
   "source": [
    "#2*(a-b)+c\n",
    "g=tf.Graph()\n",
    "with g.as_default():\n",
    "    a=tf.constant(1,name='a')\n",
    "    b=tf.constant(2,name='b')\n",
    "    c=tf.constant(3,name='c')\n",
    "    z=2*(a-b)+c\n",
    "\n",
    "with tf.Session(graph=g) as sess:\n",
    "    \n",
    "    print('z=2*(a-b)+c=',2,\"*\",'(',sess.run(a),'-',sess.run(b),')+',sess.run(c),\"=\",sess.run(z))\n",
    "\n",
    "#do the same thinng using placeholderf and intermediate nodes\n",
    "\n",
    "g=tf.Graph()\n",
    "with g.as_default():\n",
    "    a=tf.placeholder(dtype=tf.int32,shape=[],name='tf_a')\n",
    "    b=tf.placeholder(dtype=tf.int32,shape=[],name='tf_b')\n",
    "    c=tf.placeholder(dtype=tf.int32,shape=[],name='tf_c')\n",
    "    r1=(a-b)\n",
    "    r2=2*r1\n",
    "    z=r2+c\n",
    "\n",
    "with tf.Session(graph=g) as sess:\n",
    "    x=1\n",
    "    y=2\n",
    "    w=3\n",
    "    print('Evaluating our function')\n",
    "    print(\"z=\",sess.run(z,feed_dict={a:x,b:y,c:w}))\n",
    "\n",
    "#try mean with different sizes of variables\n",
    "\n",
    "g=tf.Graph()\n",
    "with g.as_default():\n",
    "    x=tf.placeholder(tf.float32,shape=[None,2],name='x')\n",
    "    x_mean=tf.reduce_mean(x,axis=[0],name='mean')\n",
    "\n",
    "with tf.Session(graph=g) as sess:\n",
    "    np.random.seed(seed=123)\n",
    "    np.set_printoptions(precision=2)\n",
    "    x1=np.random.uniform(low=0.0,high=1.0,size=[5,2])\n",
    "    x2=np.random.uniform(low=0.0,high=1.0,size=[10,2])\n",
    "    print(\"mean x1:\",sess.run(x_mean,feed_dict={x:x1}))\n",
    "    print(\"mean x2:\",sess.run(x_mean,feed_dict={x:x2}))\n",
    "    \n",
    "\n"
   ]
  },
  {
   "cell_type": "markdown",
   "metadata": {},
   "source": [
    "## Building a classifier using Tensorflow\n",
    "We construct a dataset using Tensorflow. We then construct a linear regression models thatd fits a line through data and minimizes mse\n",
    "We evaluate and print the loss function every 50 epochs, and we also plot useful graph presenting our regression findings"
   ]
  },
  {
   "cell_type": "code",
   "execution_count": 17,
   "metadata": {},
   "outputs": [
    {
     "name": "stdout",
     "output_type": "stream",
     "text": [
      "<tf.Variable 'net_A/layer-1/w1:0' shape=(10, 4) dtype=float32_ref>\n",
      "<tf.Variable 'net_A/layer-2/w2:0' shape=(20, 10) dtype=float32_ref>\n",
      "<tf.Variable 'net_B/Variable:0' shape=(15, 4) dtype=float32_ref>\n"
     ]
    },
    {
     "data": {
      "image/png": "[encoded data removed]",
      "text/plain": [
       "<Figure size 432x288 with 1 Axes>"
      ]
     },
     "metadata": {
      "needs_background": "light"
     },
     "output_type": "display_data"
    },
    {
     "name": "stdout",
     "output_type": "stream",
     "text": [
      "evaluating our loss function every 50 epochs\n",
      "epoch  0 : 5.1510205\n",
      "epoch  50 : 4.954921\n",
      "epoch  100 : 4.8234315\n",
      "epoch  150 : 4.727279\n",
      "epoch  200 : 4.652324\n",
      "epoch  250 : 4.591417\n",
      "epoch  300 : 4.5406847\n",
      "epoch  350 : 4.4978347\n",
      "epoch  400 : 4.461364\n",
      "epoch  450 : 4.4301934\n"
     ]
    },
    {
     "data": {
      "image/png": "[encoded data removed]",
      "text/plain": [
       "<Figure size 432x288 with 1 Axes>"
      ]
     },
     "metadata": {
      "needs_background": "light"
     },
     "output_type": "display_data"
    },
    {
     "name": "stdout",
     "output_type": "stream",
     "text": [
      "INFO:tensorflow:Restoring parameters from ./trained-model\n",
      "INFO:tensorflow:Restoring parameters from ./trained-model\n"
     ]
    },
    {
     "data": {
      "image/png": "[encoded data removed]",
      "text/plain": [
       "<Figure size 432x288 with 1 Axes>"
      ]
     },
     "metadata": {
      "needs_background": "light"
     },
     "output_type": "display_data"
    }
   ],
   "source": [
    "#variable scope\n",
    "\n",
    "g=tf.Graph()\n",
    "with g.as_default():\n",
    "    with tf.variable_scope('net_A'):\n",
    "        with tf.variable_scope('layer-1'):\n",
    "            w1=tf.Variable(tf.random_normal(shape=(10,4)),name='w1')\n",
    "        with tf.variable_scope('layer-2'):\n",
    "            w2=tf.Variable(tf.random_normal(shape=(20,10)),name='w2')\n",
    "            \n",
    "    \n",
    "    with tf.variable_scope('net_B'):\n",
    "        w3=tf.Variable(tf.Variable(tf.random_normal(shape=(15,4)),name='w3'))\n",
    "\n",
    "print(w1)\n",
    "print(w2)\n",
    "print(w3)\n",
    "\n",
    "\n",
    "#getting some complicated stuff done\n",
    "#build a classifier\n",
    "#lets implement a linear regression:\n",
    "\n",
    "g=tf.Graph()\n",
    "with g.as_default():\n",
    "    x_tf=tf.placeholder(dtype=tf.float32,shape=(None),name=\"x_tf\")\n",
    "    y_tf=tf.placeholder(dtype=tf.float32,shape=(None),name=\"y_tf\")\n",
    "    w_tf=tf.Variable(tf.random_normal(shape=(1,1)),name='w_tf')\n",
    "    bias_tf=tf.Variable(tf.zeros(shape=(1,1)),name='bias')\n",
    "    y_hat=tf.add(w_tf*x_tf,bias_tf,name='y_hat')\n",
    "    msq_mean=tf.reduce_mean(tf.square(y_hat-y_tf))\n",
    "    #train model\n",
    "    optim=tf.train.GradientDescentOptimizer(learning_rate=0.001)\n",
    "    tr_op=optim.minimize(msq_mean,name='train_op')\n",
    "    saver=tf.train.Saver()\n",
    "\n",
    "import matplotlib.pyplot as plt\n",
    "np.random.seed(0)\n",
    "\n",
    "def make_random_data():\n",
    "    x = np.random.uniform(low=-2, high=4, size=200)\n",
    "    y = []\n",
    "    for t in x:\n",
    "        r = np.random.normal(loc=0.0,scale=(0.5 + t*t/3),size=None)\n",
    "        y.append(r)\n",
    "    return x, 1.726*x -0.84 + np.array(y)\n",
    "\n",
    "x, y = make_random_data()\n",
    "plt.plot(x, y, 'o')\n",
    "plt.title('plotting our data')\n",
    "#plt.legend()\n",
    "plt.show()\n",
    "\n",
    "x_train, y_train = x[:100], y[:100]\n",
    "x_test, y_test = x[100:], y[100:]\n",
    "\n",
    "costt=[]\n",
    "print('evaluating our loss function every 50 epochs')\n",
    "with tf.Session(graph=g) as sess:\n",
    "    sess.run(tf.global_variables_initializer())\n",
    "    for epochs in range(500):\n",
    "        _,cost=sess.run([tr_op,msq_mean],feed_dict={x_tf:x_train,y_tf:y_train})\n",
    "        costt.append(cost)\n",
    "        if np.remainder(epochs,50)==0:\n",
    "            print(\"epoch \",epochs,\":\",cost)\n",
    "    saver.save(sess, './trained-model')\n",
    "\n",
    "plt.plot(costt)\n",
    "plt.title('evolution of loss function')\n",
    "#plt.legend()\n",
    "plt.show()\n",
    "\n",
    "g2=tf.Graph()\n",
    "with tf.Session(graph=g2) as sess:\n",
    "    new_saver=tf.train.import_meta_graph('./trained-model.meta')\n",
    "    new_saver.restore(sess,'./trained-model')\n",
    "    y_pred=sess.run('y_hat:0',feed_dict={'x_tf:0':x_test})\n",
    "\n",
    "x_arr = np.arange(-2, 4, 0.1)\n",
    "g3=tf.Graph()\n",
    "with tf.Session(graph=g3) as sess:\n",
    "    new_saver=tf.train.import_meta_graph('./trained-model.meta')\n",
    "    new_saver.restore(sess,'./trained-model')\n",
    "    y_arr=sess.run('y_hat:0',feed_dict={'x_tf:0':x_arr})\n",
    "    \n",
    "\n",
    "plt.scatter(x_train,y_train,c='blue',marker='o',label='train data')\n",
    "plt.scatter(x_test,y_test,c='green',marker='o',label='test data')\n",
    "plt.plot(x_arr,y_arr.T[:,0],linewidth=3)\n",
    "plt.title('fitting our linear regression')\n",
    "plt.legend()\n",
    "plt.show()\n",
    "#print(y_arr)\n"
   ]
  }
 ],
 "metadata": {
  "kernelspec": {
   "display_name": "Python 3",
   "language": "python",
   "name": "python3"
  },
  "language_info": {
   "codemirror_mode": {
    "name": "ipython",
    "version": 3
   },
   "file_extension": ".py",
   "mimetype": "text/x-python",
   "name": "python",
   "nbconvert_exporter": "python",
   "pygments_lexer": "ipython3",
   "version": "3.7.4"
  }
 },
 "nbformat": 4,
 "nbformat_minor": 2
}
